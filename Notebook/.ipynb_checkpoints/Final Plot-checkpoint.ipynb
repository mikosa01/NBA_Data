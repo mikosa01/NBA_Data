{
 "cells": [
  {
   "cell_type": "code",
   "execution_count": 15,
   "id": "eba00267",
   "metadata": {},
   "outputs": [],
   "source": [
    "import pandas as pd \n",
    "import numpy as np \n",
    "import matplotlib.pyplot as plt "
   ]
  },
  {
   "cell_type": "code",
   "execution_count": 16,
   "id": "d512f9c0",
   "metadata": {},
   "outputs": [],
   "source": [
    "stats = pd.read_csv('clean_stats.csv')\n",
    "player = pd.read_csv('clean_players.csv')\n",
    "team = pd.read_csv('clean_team.csv')\n",
    "game = pd.read_csv('clean_games.csv')\n",
    "data = stats.merge(player[['last_name']], left_on='player_id', right_on=player['id'])\n"
   ]
  },
  {
   "cell_type": "code",
   "execution_count": 21,
   "id": "d9d7245e",
   "metadata": {},
   "outputs": [
    {
     "data": {
      "text/plain": [
       "Index(['ast', 'blk', 'dreb', 'fg3a', 'fg3m', 'fg_pct', 'fga', 'fgm', 'fta',\n",
       "       'ftm', 'id', 'pf', 'pts', 'reb', 'stl', 'turnover', 'game_id',\n",
       "       'home_team_id', 'home_team_score', 'visitor_team_id',\n",
       "       'visitor_team_score', 'season', 'player_id', 'team_id', 'team_score',\n",
       "       'min_played', 'eFG%', 'TS%', 'PER', 'last_name'],\n",
       "      dtype='object')"
      ]
     },
     "execution_count": 21,
     "metadata": {},
     "output_type": "execute_result"
    }
   ],
   "source": [
    "data.columns"
   ]
  },
  {
   "cell_type": "code",
   "execution_count": null,
   "id": "b7bd8144",
   "metadata": {},
   "outputs": [],
   "source": []
  },
  {
   "cell_type": "code",
   "execution_count": 17,
   "id": "60832196",
   "metadata": {},
   "outputs": [
    {
     "data": {
      "text/html": [
       "<div>\n",
       "<style scoped>\n",
       "    .dataframe tbody tr th:only-of-type {\n",
       "        vertical-align: middle;\n",
       "    }\n",
       "\n",
       "    .dataframe tbody tr th {\n",
       "        vertical-align: top;\n",
       "    }\n",
       "\n",
       "    .dataframe thead th {\n",
       "        text-align: right;\n",
       "    }\n",
       "</style>\n",
       "<table border=\"1\" class=\"dataframe\">\n",
       "  <thead>\n",
       "    <tr style=\"text-align: right;\">\n",
       "      <th></th>\n",
       "      <th>abbreviation</th>\n",
       "      <th>full_name</th>\n",
       "      <th>id</th>\n",
       "      <th>name</th>\n",
       "    </tr>\n",
       "  </thead>\n",
       "  <tbody>\n",
       "    <tr>\n",
       "      <th>0</th>\n",
       "      <td>MIA</td>\n",
       "      <td>Miami Heat</td>\n",
       "      <td>16</td>\n",
       "      <td>Heat</td>\n",
       "    </tr>\n",
       "    <tr>\n",
       "      <th>1</th>\n",
       "      <td>ATL</td>\n",
       "      <td>Atlanta Hawks</td>\n",
       "      <td>1</td>\n",
       "      <td>Hawks</td>\n",
       "    </tr>\n",
       "    <tr>\n",
       "      <th>2</th>\n",
       "      <td>PIT</td>\n",
       "      <td>Pittsburgh Ironmen</td>\n",
       "      <td>44</td>\n",
       "      <td>Pittsburgh Ironmen</td>\n",
       "    </tr>\n",
       "    <tr>\n",
       "      <th>3</th>\n",
       "      <td>HUS</td>\n",
       "      <td>Toronto Huskies</td>\n",
       "      <td>41</td>\n",
       "      <td>Toronto Huskies</td>\n",
       "    </tr>\n",
       "    <tr>\n",
       "      <th>4</th>\n",
       "      <td>AND</td>\n",
       "      <td>Anderson Packers</td>\n",
       "      <td>47</td>\n",
       "      <td>Anderson Packers</td>\n",
       "    </tr>\n",
       "  </tbody>\n",
       "</table>\n",
       "</div>"
      ],
      "text/plain": [
       "  abbreviation           full_name  id                name\n",
       "0          MIA          Miami Heat  16                Heat\n",
       "1          ATL       Atlanta Hawks   1               Hawks\n",
       "2          PIT  Pittsburgh Ironmen  44  Pittsburgh Ironmen\n",
       "3          HUS     Toronto Huskies  41     Toronto Huskies\n",
       "4          AND    Anderson Packers  47    Anderson Packers"
      ]
     },
     "execution_count": 17,
     "metadata": {},
     "output_type": "execute_result"
    }
   ],
   "source": [
    "team.head()"
   ]
  },
  {
   "cell_type": "code",
   "execution_count": 22,
   "id": "c02ab6c3",
   "metadata": {},
   "outputs": [],
   "source": [
    "data = data.merge(team['name'], left_on = 'team_id', right_on = team['id'])"
   ]
  },
  {
   "cell_type": "code",
   "execution_count": 23,
   "id": "e8239e69",
   "metadata": {},
   "outputs": [
    {
     "data": {
      "text/html": [
       "<div>\n",
       "<style scoped>\n",
       "    .dataframe tbody tr th:only-of-type {\n",
       "        vertical-align: middle;\n",
       "    }\n",
       "\n",
       "    .dataframe tbody tr th {\n",
       "        vertical-align: top;\n",
       "    }\n",
       "\n",
       "    .dataframe thead th {\n",
       "        text-align: right;\n",
       "    }\n",
       "</style>\n",
       "<table border=\"1\" class=\"dataframe\">\n",
       "  <thead>\n",
       "    <tr style=\"text-align: right;\">\n",
       "      <th></th>\n",
       "      <th>ast</th>\n",
       "      <th>blk</th>\n",
       "      <th>dreb</th>\n",
       "      <th>fg3a</th>\n",
       "      <th>fg3m</th>\n",
       "      <th>fg_pct</th>\n",
       "      <th>fga</th>\n",
       "      <th>fgm</th>\n",
       "      <th>fta</th>\n",
       "      <th>ftm</th>\n",
       "      <th>...</th>\n",
       "      <th>season</th>\n",
       "      <th>player_id</th>\n",
       "      <th>team_id</th>\n",
       "      <th>team_score</th>\n",
       "      <th>min_played</th>\n",
       "      <th>eFG%</th>\n",
       "      <th>TS%</th>\n",
       "      <th>PER</th>\n",
       "      <th>last_name</th>\n",
       "      <th>name</th>\n",
       "    </tr>\n",
       "  </thead>\n",
       "  <tbody>\n",
       "    <tr>\n",
       "      <th>0</th>\n",
       "      <td>0</td>\n",
       "      <td>0</td>\n",
       "      <td>4</td>\n",
       "      <td>6</td>\n",
       "      <td>3</td>\n",
       "      <td>0.667</td>\n",
       "      <td>12</td>\n",
       "      <td>8</td>\n",
       "      <td>5</td>\n",
       "      <td>5</td>\n",
       "      <td>...</td>\n",
       "      <td>2005</td>\n",
       "      <td>1162</td>\n",
       "      <td>12</td>\n",
       "      <td>99</td>\n",
       "      <td>36.550000</td>\n",
       "      <td>79.166667</td>\n",
       "      <td>84.507042</td>\n",
       "      <td>0.766074</td>\n",
       "      <td>Stojakovic</td>\n",
       "      <td>Pacers</td>\n",
       "    </tr>\n",
       "    <tr>\n",
       "      <th>1</th>\n",
       "      <td>1</td>\n",
       "      <td>0</td>\n",
       "      <td>6</td>\n",
       "      <td>4</td>\n",
       "      <td>0</td>\n",
       "      <td>0.313</td>\n",
       "      <td>16</td>\n",
       "      <td>5</td>\n",
       "      <td>9</td>\n",
       "      <td>9</td>\n",
       "      <td>...</td>\n",
       "      <td>2005</td>\n",
       "      <td>1162</td>\n",
       "      <td>12</td>\n",
       "      <td>99</td>\n",
       "      <td>37.816667</td>\n",
       "      <td>31.250000</td>\n",
       "      <td>47.595190</td>\n",
       "      <td>0.912296</td>\n",
       "      <td>Stojakovic</td>\n",
       "      <td>Pacers</td>\n",
       "    </tr>\n",
       "    <tr>\n",
       "      <th>2</th>\n",
       "      <td>1</td>\n",
       "      <td>0</td>\n",
       "      <td>7</td>\n",
       "      <td>5</td>\n",
       "      <td>1</td>\n",
       "      <td>0.400</td>\n",
       "      <td>15</td>\n",
       "      <td>6</td>\n",
       "      <td>5</td>\n",
       "      <td>5</td>\n",
       "      <td>...</td>\n",
       "      <td>2005</td>\n",
       "      <td>1162</td>\n",
       "      <td>12</td>\n",
       "      <td>92</td>\n",
       "      <td>41.866667</td>\n",
       "      <td>43.333333</td>\n",
       "      <td>52.325581</td>\n",
       "      <td>0.704618</td>\n",
       "      <td>Stojakovic</td>\n",
       "      <td>Pacers</td>\n",
       "    </tr>\n",
       "    <tr>\n",
       "      <th>3</th>\n",
       "      <td>1</td>\n",
       "      <td>1</td>\n",
       "      <td>5</td>\n",
       "      <td>2</td>\n",
       "      <td>0</td>\n",
       "      <td>0.455</td>\n",
       "      <td>11</td>\n",
       "      <td>5</td>\n",
       "      <td>2</td>\n",
       "      <td>2</td>\n",
       "      <td>...</td>\n",
       "      <td>2005</td>\n",
       "      <td>1162</td>\n",
       "      <td>12</td>\n",
       "      <td>90</td>\n",
       "      <td>25.866667</td>\n",
       "      <td>45.454545</td>\n",
       "      <td>50.505051</td>\n",
       "      <td>0.947165</td>\n",
       "      <td>Stojakovic</td>\n",
       "      <td>Pacers</td>\n",
       "    </tr>\n",
       "    <tr>\n",
       "      <th>4</th>\n",
       "      <td>2</td>\n",
       "      <td>0</td>\n",
       "      <td>2</td>\n",
       "      <td>5</td>\n",
       "      <td>2</td>\n",
       "      <td>0.364</td>\n",
       "      <td>11</td>\n",
       "      <td>4</td>\n",
       "      <td>4</td>\n",
       "      <td>4</td>\n",
       "      <td>...</td>\n",
       "      <td>2005</td>\n",
       "      <td>1162</td>\n",
       "      <td>12</td>\n",
       "      <td>97</td>\n",
       "      <td>35.550000</td>\n",
       "      <td>45.454545</td>\n",
       "      <td>54.858934</td>\n",
       "      <td>0.506329</td>\n",
       "      <td>Stojakovic</td>\n",
       "      <td>Pacers</td>\n",
       "    </tr>\n",
       "  </tbody>\n",
       "</table>\n",
       "<p>5 rows × 31 columns</p>\n",
       "</div>"
      ],
      "text/plain": [
       "   ast  blk  dreb  fg3a  fg3m  fg_pct  fga  fgm  fta  ftm  ...  season  \\\n",
       "0    0    0     4     6     3   0.667   12    8    5    5  ...    2005   \n",
       "1    1    0     6     4     0   0.313   16    5    9    9  ...    2005   \n",
       "2    1    0     7     5     1   0.400   15    6    5    5  ...    2005   \n",
       "3    1    1     5     2     0   0.455   11    5    2    2  ...    2005   \n",
       "4    2    0     2     5     2   0.364   11    4    4    4  ...    2005   \n",
       "\n",
       "   player_id  team_id  team_score  min_played       eFG%        TS%       PER  \\\n",
       "0       1162       12          99   36.550000  79.166667  84.507042  0.766074   \n",
       "1       1162       12          99   37.816667  31.250000  47.595190  0.912296   \n",
       "2       1162       12          92   41.866667  43.333333  52.325581  0.704618   \n",
       "3       1162       12          90   25.866667  45.454545  50.505051  0.947165   \n",
       "4       1162       12          97   35.550000  45.454545  54.858934  0.506329   \n",
       "\n",
       "    last_name    name  \n",
       "0  Stojakovic  Pacers  \n",
       "1  Stojakovic  Pacers  \n",
       "2  Stojakovic  Pacers  \n",
       "3  Stojakovic  Pacers  \n",
       "4  Stojakovic  Pacers  \n",
       "\n",
       "[5 rows x 31 columns]"
      ]
     },
     "execution_count": 23,
     "metadata": {},
     "output_type": "execute_result"
    }
   ],
   "source": [
    "data.head()"
   ]
  },
  {
   "cell_type": "code",
   "execution_count": 24,
   "id": "23a5f0ed",
   "metadata": {},
   "outputs": [
    {
     "name": "stderr",
     "output_type": "stream",
     "text": [
      "C:\\Users\\Owner\\AppData\\Local\\Temp\\ipykernel_20364\\3194576130.py:1: FutureWarning: In a future version of pandas all arguments of DataFrame.drop except for the argument 'labels' will be keyword-only.\n",
      "  data.drop(['player_id', 'team_id', 'game_id', 'visitor_team_id', 'home_team_id'], 1 , inplace = True)\n"
     ]
    }
   ],
   "source": [
    "data.drop(['player_id', 'team_id', 'game_id', 'visitor_team_id', 'home_team_id'], 1 , inplace = True)"
   ]
  },
  {
   "cell_type": "code",
   "execution_count": 25,
   "id": "052dfa74",
   "metadata": {},
   "outputs": [
    {
     "data": {
      "text/html": [
       "<div>\n",
       "<style scoped>\n",
       "    .dataframe tbody tr th:only-of-type {\n",
       "        vertical-align: middle;\n",
       "    }\n",
       "\n",
       "    .dataframe tbody tr th {\n",
       "        vertical-align: top;\n",
       "    }\n",
       "\n",
       "    .dataframe thead th {\n",
       "        text-align: right;\n",
       "    }\n",
       "</style>\n",
       "<table border=\"1\" class=\"dataframe\">\n",
       "  <thead>\n",
       "    <tr style=\"text-align: right;\">\n",
       "      <th></th>\n",
       "      <th>ast</th>\n",
       "      <th>blk</th>\n",
       "      <th>dreb</th>\n",
       "      <th>fg3a</th>\n",
       "      <th>fg3m</th>\n",
       "      <th>fg_pct</th>\n",
       "      <th>fga</th>\n",
       "      <th>fgm</th>\n",
       "      <th>fta</th>\n",
       "      <th>ftm</th>\n",
       "      <th>...</th>\n",
       "      <th>home_team_score</th>\n",
       "      <th>visitor_team_score</th>\n",
       "      <th>season</th>\n",
       "      <th>team_score</th>\n",
       "      <th>min_played</th>\n",
       "      <th>eFG%</th>\n",
       "      <th>TS%</th>\n",
       "      <th>PER</th>\n",
       "      <th>last_name</th>\n",
       "      <th>name</th>\n",
       "    </tr>\n",
       "  </thead>\n",
       "  <tbody>\n",
       "    <tr>\n",
       "      <th>0</th>\n",
       "      <td>0</td>\n",
       "      <td>0</td>\n",
       "      <td>4</td>\n",
       "      <td>6</td>\n",
       "      <td>3</td>\n",
       "      <td>0.667</td>\n",
       "      <td>12</td>\n",
       "      <td>8</td>\n",
       "      <td>5</td>\n",
       "      <td>5</td>\n",
       "      <td>...</td>\n",
       "      <td>99</td>\n",
       "      <td>98</td>\n",
       "      <td>2005</td>\n",
       "      <td>99</td>\n",
       "      <td>36.550000</td>\n",
       "      <td>79.166667</td>\n",
       "      <td>84.507042</td>\n",
       "      <td>0.766074</td>\n",
       "      <td>Stojakovic</td>\n",
       "      <td>Pacers</td>\n",
       "    </tr>\n",
       "    <tr>\n",
       "      <th>1</th>\n",
       "      <td>1</td>\n",
       "      <td>0</td>\n",
       "      <td>6</td>\n",
       "      <td>4</td>\n",
       "      <td>0</td>\n",
       "      <td>0.313</td>\n",
       "      <td>16</td>\n",
       "      <td>5</td>\n",
       "      <td>9</td>\n",
       "      <td>9</td>\n",
       "      <td>...</td>\n",
       "      <td>93</td>\n",
       "      <td>99</td>\n",
       "      <td>2005</td>\n",
       "      <td>99</td>\n",
       "      <td>37.816667</td>\n",
       "      <td>31.250000</td>\n",
       "      <td>47.595190</td>\n",
       "      <td>0.912296</td>\n",
       "      <td>Stojakovic</td>\n",
       "      <td>Pacers</td>\n",
       "    </tr>\n",
       "    <tr>\n",
       "      <th>2</th>\n",
       "      <td>1</td>\n",
       "      <td>0</td>\n",
       "      <td>7</td>\n",
       "      <td>5</td>\n",
       "      <td>1</td>\n",
       "      <td>0.400</td>\n",
       "      <td>15</td>\n",
       "      <td>6</td>\n",
       "      <td>5</td>\n",
       "      <td>5</td>\n",
       "      <td>...</td>\n",
       "      <td>92</td>\n",
       "      <td>91</td>\n",
       "      <td>2005</td>\n",
       "      <td>92</td>\n",
       "      <td>41.866667</td>\n",
       "      <td>43.333333</td>\n",
       "      <td>52.325581</td>\n",
       "      <td>0.704618</td>\n",
       "      <td>Stojakovic</td>\n",
       "      <td>Pacers</td>\n",
       "    </tr>\n",
       "    <tr>\n",
       "      <th>3</th>\n",
       "      <td>1</td>\n",
       "      <td>1</td>\n",
       "      <td>5</td>\n",
       "      <td>2</td>\n",
       "      <td>0</td>\n",
       "      <td>0.455</td>\n",
       "      <td>11</td>\n",
       "      <td>5</td>\n",
       "      <td>2</td>\n",
       "      <td>2</td>\n",
       "      <td>...</td>\n",
       "      <td>88</td>\n",
       "      <td>90</td>\n",
       "      <td>2005</td>\n",
       "      <td>90</td>\n",
       "      <td>25.866667</td>\n",
       "      <td>45.454545</td>\n",
       "      <td>50.505051</td>\n",
       "      <td>0.947165</td>\n",
       "      <td>Stojakovic</td>\n",
       "      <td>Pacers</td>\n",
       "    </tr>\n",
       "    <tr>\n",
       "      <th>4</th>\n",
       "      <td>2</td>\n",
       "      <td>0</td>\n",
       "      <td>2</td>\n",
       "      <td>5</td>\n",
       "      <td>2</td>\n",
       "      <td>0.364</td>\n",
       "      <td>11</td>\n",
       "      <td>4</td>\n",
       "      <td>4</td>\n",
       "      <td>4</td>\n",
       "      <td>...</td>\n",
       "      <td>97</td>\n",
       "      <td>83</td>\n",
       "      <td>2005</td>\n",
       "      <td>97</td>\n",
       "      <td>35.550000</td>\n",
       "      <td>45.454545</td>\n",
       "      <td>54.858934</td>\n",
       "      <td>0.506329</td>\n",
       "      <td>Stojakovic</td>\n",
       "      <td>Pacers</td>\n",
       "    </tr>\n",
       "  </tbody>\n",
       "</table>\n",
       "<p>5 rows × 26 columns</p>\n",
       "</div>"
      ],
      "text/plain": [
       "   ast  blk  dreb  fg3a  fg3m  fg_pct  fga  fgm  fta  ftm  ...  \\\n",
       "0    0    0     4     6     3   0.667   12    8    5    5  ...   \n",
       "1    1    0     6     4     0   0.313   16    5    9    9  ...   \n",
       "2    1    0     7     5     1   0.400   15    6    5    5  ...   \n",
       "3    1    1     5     2     0   0.455   11    5    2    2  ...   \n",
       "4    2    0     2     5     2   0.364   11    4    4    4  ...   \n",
       "\n",
       "   home_team_score  visitor_team_score  season  team_score  min_played  \\\n",
       "0               99                  98    2005          99   36.550000   \n",
       "1               93                  99    2005          99   37.816667   \n",
       "2               92                  91    2005          92   41.866667   \n",
       "3               88                  90    2005          90   25.866667   \n",
       "4               97                  83    2005          97   35.550000   \n",
       "\n",
       "        eFG%        TS%       PER   last_name    name  \n",
       "0  79.166667  84.507042  0.766074  Stojakovic  Pacers  \n",
       "1  31.250000  47.595190  0.912296  Stojakovic  Pacers  \n",
       "2  43.333333  52.325581  0.704618  Stojakovic  Pacers  \n",
       "3  45.454545  50.505051  0.947165  Stojakovic  Pacers  \n",
       "4  45.454545  54.858934  0.506329  Stojakovic  Pacers  \n",
       "\n",
       "[5 rows x 26 columns]"
      ]
     },
     "execution_count": 25,
     "metadata": {},
     "output_type": "execute_result"
    }
   ],
   "source": [
    "data.head()"
   ]
  },
  {
   "cell_type": "code",
   "execution_count": 26,
   "id": "2f23b6d1",
   "metadata": {},
   "outputs": [],
   "source": [
    "top_10 = data.nlargest(n = 10, columns = 'PER')"
   ]
  },
  {
   "cell_type": "code",
   "execution_count": 27,
   "id": "e690beb1",
   "metadata": {},
   "outputs": [],
   "source": [
    "import seaborn as sns"
   ]
  },
  {
   "cell_type": "code",
   "execution_count": 28,
   "id": "67c1811d",
   "metadata": {},
   "outputs": [
    {
     "data": {
      "text/plain": [
       "[Text(0, 0, '11'),\n",
       " Text(0, 0, '7.5'),\n",
       " Text(0, 0, '7.27273'),\n",
       " Text(0, 0, '5'),\n",
       " Text(0, 0, '4.61538'),\n",
       " Text(0, 0, '4.25'),\n",
       " Text(0, 0, '4.22535'),\n",
       " Text(0, 0, '4'),\n",
       " Text(0, 0, '4'),\n",
       " Text(0, 0, '4')]"
      ]
     },
     "execution_count": 28,
     "metadata": {},
     "output_type": "execute_result"
    },
    {
     "data": {
      "image/png": "[encoded data removed]",
      "text/plain": [
       "<Figure size 640x480 with 1 Axes>"
      ]
     },
     "metadata": {},
     "output_type": "display_data"
    }
   ],
   "source": [
    "ax = sns.barplot(x = 'PER', y = 'last_name', data= top_10,errwidth = 0)\n",
    "# for i in ax.containers:\n",
    "#     ax.bar_label(i,)\n",
    "ax.bar_label(ax.containers[0])"
   ]
  },
  {
   "cell_type": "code",
   "execution_count": 29,
   "id": "420b07bc",
   "metadata": {},
   "outputs": [
    {
     "data": {
      "text/html": [
       "<div>\n",
       "<style scoped>\n",
       "    .dataframe tbody tr th:only-of-type {\n",
       "        vertical-align: middle;\n",
       "    }\n",
       "\n",
       "    .dataframe tbody tr th {\n",
       "        vertical-align: top;\n",
       "    }\n",
       "\n",
       "    .dataframe thead th {\n",
       "        text-align: right;\n",
       "    }\n",
       "</style>\n",
       "<table border=\"1\" class=\"dataframe\">\n",
       "  <thead>\n",
       "    <tr style=\"text-align: right;\">\n",
       "      <th></th>\n",
       "      <th>ast</th>\n",
       "      <th>blk</th>\n",
       "      <th>dreb</th>\n",
       "      <th>fg3a</th>\n",
       "      <th>fg3m</th>\n",
       "      <th>fg_pct</th>\n",
       "      <th>fga</th>\n",
       "      <th>fgm</th>\n",
       "      <th>fta</th>\n",
       "      <th>ftm</th>\n",
       "      <th>...</th>\n",
       "      <th>home_team_score</th>\n",
       "      <th>visitor_team_score</th>\n",
       "      <th>season</th>\n",
       "      <th>team_score</th>\n",
       "      <th>min_played</th>\n",
       "      <th>eFG%</th>\n",
       "      <th>TS%</th>\n",
       "      <th>PER</th>\n",
       "      <th>last_name</th>\n",
       "      <th>name</th>\n",
       "    </tr>\n",
       "  </thead>\n",
       "  <tbody>\n",
       "    <tr>\n",
       "      <th>1279</th>\n",
       "      <td>0</td>\n",
       "      <td>0</td>\n",
       "      <td>0</td>\n",
       "      <td>1</td>\n",
       "      <td>0</td>\n",
       "      <td>0.0</td>\n",
       "      <td>2</td>\n",
       "      <td>0</td>\n",
       "      <td>0</td>\n",
       "      <td>0</td>\n",
       "      <td>...</td>\n",
       "      <td>99</td>\n",
       "      <td>81</td>\n",
       "      <td>2012</td>\n",
       "      <td>99</td>\n",
       "      <td>1.0</td>\n",
       "      <td>0.0</td>\n",
       "      <td>0.0</td>\n",
       "      <td>-2.0</td>\n",
       "      <td>Johnson</td>\n",
       "      <td>Kings</td>\n",
       "    </tr>\n",
       "    <tr>\n",
       "      <th>8807</th>\n",
       "      <td>0</td>\n",
       "      <td>0</td>\n",
       "      <td>0</td>\n",
       "      <td>0</td>\n",
       "      <td>0</td>\n",
       "      <td>0.0</td>\n",
       "      <td>2</td>\n",
       "      <td>0</td>\n",
       "      <td>0</td>\n",
       "      <td>0</td>\n",
       "      <td>...</td>\n",
       "      <td>100</td>\n",
       "      <td>90</td>\n",
       "      <td>2008</td>\n",
       "      <td>100</td>\n",
       "      <td>1.0</td>\n",
       "      <td>0.0</td>\n",
       "      <td>0.0</td>\n",
       "      <td>-2.0</td>\n",
       "      <td>Samb</td>\n",
       "      <td>Nuggets</td>\n",
       "    </tr>\n",
       "  </tbody>\n",
       "</table>\n",
       "<p>2 rows × 26 columns</p>\n",
       "</div>"
      ],
      "text/plain": [
       "      ast  blk  dreb  fg3a  fg3m  fg_pct  fga  fgm  fta  ftm  ...  \\\n",
       "1279    0    0     0     1     0     0.0    2    0    0    0  ...   \n",
       "8807    0    0     0     0     0     0.0    2    0    0    0  ...   \n",
       "\n",
       "      home_team_score  visitor_team_score  season  team_score  min_played  \\\n",
       "1279               99                  81    2012          99         1.0   \n",
       "8807              100                  90    2008         100         1.0   \n",
       "\n",
       "      eFG%  TS%  PER  last_name     name  \n",
       "1279   0.0  0.0 -2.0    Johnson    Kings  \n",
       "8807   0.0  0.0 -2.0       Samb  Nuggets  \n",
       "\n",
       "[2 rows x 26 columns]"
      ]
     },
     "execution_count": 29,
     "metadata": {},
     "output_type": "execute_result"
    }
   ],
   "source": [
    "# min(data['PER'])\n",
    "data[data['PER']==-2.0]"
   ]
  },
  {
   "cell_type": "code",
   "execution_count": null,
   "id": "473abff8",
   "metadata": {},
   "outputs": [],
   "source": []
  },
  {
   "cell_type": "code",
   "execution_count": null,
   "id": "2962b365",
   "metadata": {},
   "outputs": [],
   "source": []
  },
  {
   "cell_type": "code",
   "execution_count": 30,
   "id": "3d703d18",
   "metadata": {},
   "outputs": [
    {
     "data": {
      "text/plain": [
       "<Axes: xlabel='PER', ylabel='Count'>"
      ]
     },
     "execution_count": 30,
     "metadata": {},
     "output_type": "execute_result"
    },
    {
     "data": {
      "image/png": "[encoded data removed]",
      "text/plain": [
       "<Figure size 640x480 with 1 Axes>"
      ]
     },
     "metadata": {},
     "output_type": "display_data"
    }
   ],
   "source": [
    "sns.histplot(x = data['PER'])"
   ]
  },
  {
   "cell_type": "code",
   "execution_count": null,
   "id": "8bd7d1da",
   "metadata": {},
   "outputs": [],
   "source": []
  },
  {
   "cell_type": "code",
   "execution_count": 31,
   "id": "584b2f9a",
   "metadata": {},
   "outputs": [
    {
     "data": {
      "image/png": "[encoded data removed]",
      "text/plain": [
       "<Figure size 640x480 with 1 Axes>"
      ]
     },
     "metadata": {},
     "output_type": "display_data"
    }
   ],
   "source": [
    "ax = sns.barplot(x = 'season', y = 'PER', data= data, errwidth = 0)\n",
    "ax.bar_label(ax.containers[0])\n",
    "plt.xticks(rotation= 90, fontsize = 8)\n",
    "#plt.axis('off')\n",
    "plt.tight_layout()"
   ]
  },
  {
   "cell_type": "code",
   "execution_count": null,
   "id": "e574f668",
   "metadata": {},
   "outputs": [],
   "source": []
  },
  {
   "cell_type": "code",
   "execution_count": 32,
   "id": "044b85d5",
   "metadata": {},
   "outputs": [
    {
     "data": {
      "text/html": [
       "<div>\n",
       "<style scoped>\n",
       "    .dataframe tbody tr th:only-of-type {\n",
       "        vertical-align: middle;\n",
       "    }\n",
       "\n",
       "    .dataframe tbody tr th {\n",
       "        vertical-align: top;\n",
       "    }\n",
       "\n",
       "    .dataframe thead th {\n",
       "        text-align: right;\n",
       "    }\n",
       "</style>\n",
       "<table border=\"1\" class=\"dataframe\">\n",
       "  <thead>\n",
       "    <tr style=\"text-align: right;\">\n",
       "      <th></th>\n",
       "      <th>ast</th>\n",
       "      <th>blk</th>\n",
       "      <th>dreb</th>\n",
       "      <th>fg3a</th>\n",
       "      <th>fg3m</th>\n",
       "      <th>fg_pct</th>\n",
       "      <th>fga</th>\n",
       "      <th>fgm</th>\n",
       "      <th>fta</th>\n",
       "      <th>ftm</th>\n",
       "      <th>...</th>\n",
       "      <th>home_team_score</th>\n",
       "      <th>visitor_team_score</th>\n",
       "      <th>season</th>\n",
       "      <th>team_score</th>\n",
       "      <th>min_played</th>\n",
       "      <th>eFG%</th>\n",
       "      <th>TS%</th>\n",
       "      <th>PER</th>\n",
       "      <th>last_name</th>\n",
       "      <th>name</th>\n",
       "    </tr>\n",
       "  </thead>\n",
       "  <tbody>\n",
       "    <tr>\n",
       "      <th>0</th>\n",
       "      <td>0</td>\n",
       "      <td>0</td>\n",
       "      <td>4</td>\n",
       "      <td>6</td>\n",
       "      <td>3</td>\n",
       "      <td>0.667</td>\n",
       "      <td>12</td>\n",
       "      <td>8</td>\n",
       "      <td>5</td>\n",
       "      <td>5</td>\n",
       "      <td>...</td>\n",
       "      <td>99</td>\n",
       "      <td>98</td>\n",
       "      <td>2005</td>\n",
       "      <td>99</td>\n",
       "      <td>36.550000</td>\n",
       "      <td>79.166667</td>\n",
       "      <td>84.507042</td>\n",
       "      <td>0.766074</td>\n",
       "      <td>Stojakovic</td>\n",
       "      <td>Pacers</td>\n",
       "    </tr>\n",
       "    <tr>\n",
       "      <th>1</th>\n",
       "      <td>1</td>\n",
       "      <td>0</td>\n",
       "      <td>6</td>\n",
       "      <td>4</td>\n",
       "      <td>0</td>\n",
       "      <td>0.313</td>\n",
       "      <td>16</td>\n",
       "      <td>5</td>\n",
       "      <td>9</td>\n",
       "      <td>9</td>\n",
       "      <td>...</td>\n",
       "      <td>93</td>\n",
       "      <td>99</td>\n",
       "      <td>2005</td>\n",
       "      <td>99</td>\n",
       "      <td>37.816667</td>\n",
       "      <td>31.250000</td>\n",
       "      <td>47.595190</td>\n",
       "      <td>0.912296</td>\n",
       "      <td>Stojakovic</td>\n",
       "      <td>Pacers</td>\n",
       "    </tr>\n",
       "    <tr>\n",
       "      <th>2</th>\n",
       "      <td>1</td>\n",
       "      <td>0</td>\n",
       "      <td>7</td>\n",
       "      <td>5</td>\n",
       "      <td>1</td>\n",
       "      <td>0.400</td>\n",
       "      <td>15</td>\n",
       "      <td>6</td>\n",
       "      <td>5</td>\n",
       "      <td>5</td>\n",
       "      <td>...</td>\n",
       "      <td>92</td>\n",
       "      <td>91</td>\n",
       "      <td>2005</td>\n",
       "      <td>92</td>\n",
       "      <td>41.866667</td>\n",
       "      <td>43.333333</td>\n",
       "      <td>52.325581</td>\n",
       "      <td>0.704618</td>\n",
       "      <td>Stojakovic</td>\n",
       "      <td>Pacers</td>\n",
       "    </tr>\n",
       "    <tr>\n",
       "      <th>3</th>\n",
       "      <td>1</td>\n",
       "      <td>1</td>\n",
       "      <td>5</td>\n",
       "      <td>2</td>\n",
       "      <td>0</td>\n",
       "      <td>0.455</td>\n",
       "      <td>11</td>\n",
       "      <td>5</td>\n",
       "      <td>2</td>\n",
       "      <td>2</td>\n",
       "      <td>...</td>\n",
       "      <td>88</td>\n",
       "      <td>90</td>\n",
       "      <td>2005</td>\n",
       "      <td>90</td>\n",
       "      <td>25.866667</td>\n",
       "      <td>45.454545</td>\n",
       "      <td>50.505051</td>\n",
       "      <td>0.947165</td>\n",
       "      <td>Stojakovic</td>\n",
       "      <td>Pacers</td>\n",
       "    </tr>\n",
       "    <tr>\n",
       "      <th>4</th>\n",
       "      <td>2</td>\n",
       "      <td>0</td>\n",
       "      <td>2</td>\n",
       "      <td>5</td>\n",
       "      <td>2</td>\n",
       "      <td>0.364</td>\n",
       "      <td>11</td>\n",
       "      <td>4</td>\n",
       "      <td>4</td>\n",
       "      <td>4</td>\n",
       "      <td>...</td>\n",
       "      <td>97</td>\n",
       "      <td>83</td>\n",
       "      <td>2005</td>\n",
       "      <td>97</td>\n",
       "      <td>35.550000</td>\n",
       "      <td>45.454545</td>\n",
       "      <td>54.858934</td>\n",
       "      <td>0.506329</td>\n",
       "      <td>Stojakovic</td>\n",
       "      <td>Pacers</td>\n",
       "    </tr>\n",
       "  </tbody>\n",
       "</table>\n",
       "<p>5 rows × 26 columns</p>\n",
       "</div>"
      ],
      "text/plain": [
       "   ast  blk  dreb  fg3a  fg3m  fg_pct  fga  fgm  fta  ftm  ...  \\\n",
       "0    0    0     4     6     3   0.667   12    8    5    5  ...   \n",
       "1    1    0     6     4     0   0.313   16    5    9    9  ...   \n",
       "2    1    0     7     5     1   0.400   15    6    5    5  ...   \n",
       "3    1    1     5     2     0   0.455   11    5    2    2  ...   \n",
       "4    2    0     2     5     2   0.364   11    4    4    4  ...   \n",
       "\n",
       "   home_team_score  visitor_team_score  season  team_score  min_played  \\\n",
       "0               99                  98    2005          99   36.550000   \n",
       "1               93                  99    2005          99   37.816667   \n",
       "2               92                  91    2005          92   41.866667   \n",
       "3               88                  90    2005          90   25.866667   \n",
       "4               97                  83    2005          97   35.550000   \n",
       "\n",
       "        eFG%        TS%       PER   last_name    name  \n",
       "0  79.166667  84.507042  0.766074  Stojakovic  Pacers  \n",
       "1  31.250000  47.595190  0.912296  Stojakovic  Pacers  \n",
       "2  43.333333  52.325581  0.704618  Stojakovic  Pacers  \n",
       "3  45.454545  50.505051  0.947165  Stojakovic  Pacers  \n",
       "4  45.454545  54.858934  0.506329  Stojakovic  Pacers  \n",
       "\n",
       "[5 rows x 26 columns]"
      ]
     },
     "execution_count": 32,
     "metadata": {},
     "output_type": "execute_result"
    }
   ],
   "source": [
    "data.head()"
   ]
  },
  {
   "cell_type": "code",
   "execution_count": 33,
   "id": "4f5233fe",
   "metadata": {},
   "outputs": [
    {
     "data": {
      "text/plain": [
       "Index(['ast', 'blk', 'dreb', 'fg3a', 'fg3m', 'fg_pct', 'fga', 'fgm', 'fta',\n",
       "       'ftm', 'id', 'pf', 'pts', 'reb', 'stl', 'turnover', 'home_team_score',\n",
       "       'visitor_team_score', 'season', 'team_score', 'min_played', 'eFG%',\n",
       "       'TS%', 'PER', 'last_name', 'name'],\n",
       "      dtype='object')"
      ]
     },
     "execution_count": 33,
     "metadata": {},
     "output_type": "execute_result"
    }
   ],
   "source": [
    "data.columns"
   ]
  },
  {
   "cell_type": "code",
   "execution_count": 34,
   "id": "f49e830d",
   "metadata": {},
   "outputs": [
    {
     "data": {
      "text/plain": [
       "<Axes: xlabel='fg3a', ylabel='fg3m'>"
      ]
     },
     "execution_count": 34,
     "metadata": {},
     "output_type": "execute_result"
    },
    {
     "data": {
      "image/png": "[encoded data removed]",
      "text/plain": [
       "<Figure size 640x480 with 1 Axes>"
      ]
     },
     "metadata": {},
     "output_type": "display_data"
    }
   ],
   "source": [
    "sns.scatterplot(x = 'fg3a', y = 'fg3m', data = data)"
   ]
  },
  {
   "cell_type": "code",
   "execution_count": 35,
   "id": "e3d082a0",
   "metadata": {},
   "outputs": [
    {
     "data": {
      "text/plain": [
       "Index(['ast', 'blk', 'dreb', 'fg3a', 'fg3m', 'fg_pct', 'fga', 'fgm', 'fta',\n",
       "       'ftm', 'id', 'pf', 'pts', 'reb', 'stl', 'turnover', 'home_team_score',\n",
       "       'visitor_team_score', 'season', 'team_score', 'min_played', 'eFG%',\n",
       "       'TS%', 'PER', 'last_name', 'name'],\n",
       "      dtype='object')"
      ]
     },
     "execution_count": 35,
     "metadata": {},
     "output_type": "execute_result"
    }
   ],
   "source": [
    "data.columns"
   ]
  },
  {
   "cell_type": "code",
   "execution_count": 37,
   "id": "2600a3b8",
   "metadata": {},
   "outputs": [],
   "source": [
    "data.rename(columns ={'name':'team_name'}, inplace = True)"
   ]
  },
  {
   "cell_type": "code",
   "execution_count": 38,
   "id": "d157e8b3",
   "metadata": {},
   "outputs": [
    {
     "data": {
      "text/plain": [
       "Index(['ast', 'blk', 'dreb', 'fg3a', 'fg3m', 'fg_pct', 'fga', 'fgm', 'fta',\n",
       "       'ftm', 'id', 'pf', 'pts', 'reb', 'stl', 'turnover', 'home_team_score',\n",
       "       'visitor_team_score', 'season', 'team_score', 'min_played', 'eFG%',\n",
       "       'TS%', 'PER', 'last_name', 'team_name'],\n",
       "      dtype='object')"
      ]
     },
     "execution_count": 38,
     "metadata": {},
     "output_type": "execute_result"
    }
   ],
   "source": [
    "data.columns"
   ]
  },
  {
   "cell_type": "code",
   "execution_count": 45,
   "id": "443bb0b0",
   "metadata": {},
   "outputs": [],
   "source": [
    "team = data.groupby(['team_name', 'season']).agg({'pts':'sum'}).reset_index()"
   ]
  },
  {
   "cell_type": "code",
   "execution_count": 46,
   "id": "fda5878d",
   "metadata": {},
   "outputs": [
    {
     "data": {
      "text/html": [
       "<div>\n",
       "<style scoped>\n",
       "    .dataframe tbody tr th:only-of-type {\n",
       "        vertical-align: middle;\n",
       "    }\n",
       "\n",
       "    .dataframe tbody tr th {\n",
       "        vertical-align: top;\n",
       "    }\n",
       "\n",
       "    .dataframe thead th {\n",
       "        text-align: right;\n",
       "    }\n",
       "</style>\n",
       "<table border=\"1\" class=\"dataframe\">\n",
       "  <thead>\n",
       "    <tr style=\"text-align: right;\">\n",
       "      <th></th>\n",
       "      <th>team_name</th>\n",
       "      <th>season</th>\n",
       "      <th>pts</th>\n",
       "    </tr>\n",
       "  </thead>\n",
       "  <tbody>\n",
       "  </tbody>\n",
       "</table>\n",
       "</div>"
      ],
      "text/plain": [
       "Empty DataFrame\n",
       "Columns: [team_name, season, pts]\n",
       "Index: []"
      ]
     },
     "execution_count": 46,
     "metadata": {},
     "output_type": "execute_result"
    }
   ],
   "source": [
    "team[team['team_name']=='Pacer']"
   ]
  },
  {
   "cell_type": "code",
   "execution_count": null,
   "id": "17785d98",
   "metadata": {},
   "outputs": [],
   "source": []
  },
  {
   "cell_type": "code",
   "execution_count": 44,
   "id": "67d5d7b1",
   "metadata": {},
   "outputs": [
    {
     "data": {
      "text/plain": [
       "25"
      ]
     },
     "execution_count": 44,
     "metadata": {},
     "output_type": "execute_result"
    }
   ],
   "source": [
    "data['season'].nunique()"
   ]
  },
  {
   "cell_type": "code",
   "execution_count": null,
   "id": "ba2e60c4",
   "metadata": {},
   "outputs": [],
   "source": [
    "def team_point(data, season):\n",
    "    team = data.groupby(['team', 'season']).agg({'pts':'sum'})\n",
    "    "
   ]
  }
 ],
 "metadata": {
  "kernelspec": {
   "display_name": "Python 3 (ipykernel)",
   "language": "python",
   "name": "python3"
  },
  "language_info": {
   "codemirror_mode": {
    "name": "ipython",
    "version": 3
   },
   "file_extension": ".py",
   "mimetype": "text/x-python",
   "name": "python",
   "nbconvert_exporter": "python",
   "pygments_lexer": "ipython3",
   "version": "3.10.9"
  }
 },
 "nbformat": 4,
 "nbformat_minor": 5
}
