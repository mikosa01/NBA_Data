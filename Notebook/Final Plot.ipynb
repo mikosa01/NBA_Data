{
 "cells": [
  {
   "cell_type": "code",
   "execution_count": null,
   "id": "eba00267",
   "metadata": {},
   "outputs": [],
   "source": [
    "import pandas as pd \n",
    "import numpy as np \n",
    "import matplotlib.pyplot as plt \n",
    "import seaborn as sns\n",
    "from scipy.stats import shapiro"
   ]
  },
  {
   "cell_type": "code",
   "execution_count": null,
   "id": "d512f9c0",
   "metadata": {},
   "outputs": [],
   "source": [
    "stats = pd.read_csv('clean_stats.csv')\n",
    "player = pd.read_csv('clean_players.csv')\n",
    "team = pd.read_csv('clean_team.csv')\n",
    "game = pd.read_csv('clean_games.csv')\n",
    "\n",
    "#Merge the stats table  and player table \n",
    "data = stats.merge(player[['last_name']], left_on='player_id', right_on=player['id'])\n"
   ]
  },
  {
   "cell_type": "code",
   "execution_count": null,
   "id": "fd05f7ba",
   "metadata": {},
   "outputs": [],
   "source": [
    "# Display the column names of the 'data' DataFrame\n",
    "data.columns\n"
   ]
  },
  {
   "cell_type": "code",
   "execution_count": null,
   "id": "6557d915",
   "metadata": {},
   "outputs": [],
   "source": [
    "team.head()"
   ]
  },
  {
   "cell_type": "code",
   "execution_count": null,
   "id": "2a43a393",
   "metadata": {},
   "outputs": [],
   "source": [
    "#merge team and data table together \n",
    "data = data.merge(team['name'], left_on = 'team_id', right_on = team['id'])"
   ]
  },
  {
   "cell_type": "code",
   "execution_count": null,
   "id": "b516fe03",
   "metadata": {},
   "outputs": [],
   "source": [
    "data.head()"
   ]
  },
  {
   "cell_type": "code",
   "execution_count": null,
   "id": "11beb2f7",
   "metadata": {},
   "outputs": [],
   "source": [
    "#drop all id columns \n",
    "data.drop(['player_id', 'team_id', 'game_id', 'visitor_team_id', 'home_team_id'], 1 , inplace = True)"
   ]
  },
  {
   "cell_type": "code",
   "execution_count": null,
   "id": "052dfa74",
   "metadata": {},
   "outputs": [],
   "source": [
    "data.head()"
   ]
  },
  {
   "cell_type": "code",
   "execution_count": null,
   "id": "e690beb1",
   "metadata": {},
   "outputs": [],
   "source": []
  },
  {
   "cell_type": "code",
   "execution_count": null,
   "id": "c8f78a6d",
   "metadata": {},
   "outputs": [],
   "source": []
  },
  {
   "cell_type": "code",
   "execution_count": null,
   "id": "3d703d18",
   "metadata": {},
   "outputs": [],
   "source": [
    "# Create a histogram of the 'PER' column in the 'data' DataFrame with 100 bins\n",
    "# Set the title of the plot to 'PER Distribution'\n",
    "# Save the plot as 'per_distr.jpg'\n",
    "plt.figure(figsize=(6, 5))\n",
    "sns.histplot(x=data['PER'], bins=100)\n",
    "plt.title('PER Distribution')\n",
    "plt.savefig('per_distr.jpg')\n"
   ]
  },
  {
   "cell_type": "code",
   "execution_count": null,
   "id": "3a795ac6",
   "metadata": {},
   "outputs": [],
   "source": [
    "# Perform a Shapiro-Wilk test on the 'PER' column to assess normality\n",
    "statistic, p_value = shapiro(data['PER'])\n",
    "\n",
    "# Set the significance level\n",
    "alpha = 0.05\n",
    "\n",
    "# Check if the p-value is greater than alpha\n",
    "if p_value > alpha:\n",
    "    print(\"Sample looks Gaussian (fail to reject H0)\")\n",
    "else:\n",
    "    print(\"Sample does not look Gaussian (reject H0)\")\n"
   ]
  },
  {
   "cell_type": "code",
   "execution_count": null,
   "id": "b4f07578",
   "metadata": {},
   "outputs": [],
   "source": [
    "# Compute the correlation matrix for all columns in the 'data' DataFrame\n",
    "correlation_matrix = data.corr()\n",
    "\n",
    "# Extract the correlations of 'PER' with other columns\n",
    "per_correlations = correlation_matrix['PER']\n",
    "\n",
    "# Create a figure for the heatmap with a specific size\n",
    "plt.figure(figsize=(1, 5))\n",
    "\n",
    "# Generate a heatmap using the correlation values, add annotations, and specify color mapping\n",
    "sns.heatmap(pd.DataFrame(per_correlations), annot=True, cmap='coolwarm', cbar=False)\n",
    "\n",
    "# Set the title of the heatmap with a specified font size\n",
    "plt.title('Correlation Matrix', fontsize=9)\n",
    "\n",
    "# Save the heatmap as 'per_heatmap.jpg'\n",
    "plt.savefig('per_heatmap.jpg')\n",
    "\n",
    "# Display the heatmap\n",
    "plt.show()\n"
   ]
  },
  {
   "cell_type": "code",
   "execution_count": null,
   "id": "43dea36a",
   "metadata": {},
   "outputs": [],
   "source": [
    "# Group the 'data' DataFrame by 'last_name' and aggregate statistics for each player\n",
    "# Sum the points ('pts') earned, count the unique seasons ('season'), and sum the minutes played ('min_played')\n",
    "players = data.groupby(['last_name']).agg({'pts':'sum', 'season':'nunique', 'min_played':'sum'}).reset_index()"
   ]
  },
  {
   "cell_type": "code",
   "execution_count": null,
   "id": "22ec5cca",
   "metadata": {},
   "outputs": [],
   "source": [
    "# Create a relational plot (scatter plot) using 'pts' as the x-axis and 'min_played' as the y-axis\n",
    "# Data is taken from the 'players' DataFrame\n",
    "g = sns.relplot(x='pts', y='min_played', data=players)\n",
    "\n",
    "# Add an annotated line to the plot with a starting point (10, 2) and a slope of 2.5\n",
    "g.ax.axline(xy1=(10, 2), slope=2.5)\n",
    "\n",
    "# Set the title of the plot to describe the relationship being visualized\n",
    "plt.title('Relationship between Minutes Played and Points Gained')\n"
   ]
  },
  {
   "cell_type": "code",
   "execution_count": null,
   "id": "2f23b6d1",
   "metadata": {},
   "outputs": [],
   "source": [
    "#Top 10 players with respect to PER\n",
    "top_10 = data.nlargest(n = 10, columns = 'PER')\n",
    "ax = sns.barplot(x = 'PER', y = 'last_name', data= top_10,errwidth = 0)\n",
    "#ax.bar_label(ax.containers[0])\n",
    "plt.title('Top 10 players')\n",
    "plt.tight_layout()"
   ]
  }
 ],
 "metadata": {
  "kernelspec": {
   "display_name": "Python 3 (ipykernel)",
   "language": "python",
   "name": "python3"
  },
  "language_info": {
   "codemirror_mode": {
    "name": "ipython",
    "version": 3
   },
   "file_extension": ".py",
   "mimetype": "text/x-python",
   "name": "python",
   "nbconvert_exporter": "python",
   "pygments_lexer": "ipython3",
   "version": "3.10.9"
  }
 },
 "nbformat": 4,
 "nbformat_minor": 5
}
